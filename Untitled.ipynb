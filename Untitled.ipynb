{
 "cells": [
  {
   "cell_type": "code",
   "execution_count": 1,
   "id": "815f55ef",
   "metadata": {},
   "outputs": [],
   "source": [
    "import json\n",
    "import pprint as pp"
   ]
  },
  {
   "cell_type": "code",
   "execution_count": 2,
   "id": "fdbe06e9",
   "metadata": {},
   "outputs": [],
   "source": [
    "with open(\"20230706153517_JOURNEY_5N1BT3CB0PC795389_20230706154047_idling1.jsonl\",'r') as file:\n",
    "    data = json.load(file)"
   ]
  },
  {
   "cell_type": "code",
   "execution_count": 3,
   "id": "cbfaceb5",
   "metadata": {},
   "outputs": [],
   "source": [
    "with open('20230706153517_JOURNEY_5N1BT3CB0PC795389_20230706154047_idling2.jsonl',\"r\") as file:\n",
    "    data1 = json.load(file)"
   ]
  },
  {
   "cell_type": "code",
   "execution_count": 4,
   "id": "999a6aa5",
   "metadata": {},
   "outputs": [],
   "source": [
    "ignitionOff = data['ignitionOff']"
   ]
  },
  {
   "cell_type": "code",
   "execution_count": 5,
   "id": "4e355325",
   "metadata": {
    "collapsed": true
   },
   "outputs": [
    {
     "name": "stdout",
     "output_type": "stream",
     "text": [
      "{'timeStamp': '2023-07-06T15:40:47Z',\n",
      " 'sourceFile': 'decrypted/vNext_PROBE_06-07-2023_GammaExport_bVhymA_20230706164806.jsonl.gz',\n",
      " 'LocationLatitude': '32.9161619444444',\n",
      " 'LocationSourceAtEnd': '1',\n",
      " 'ECOAverageDistanceForFuelEconomy': '23.8',\n",
      " 'StatusWheelPressureRearAxle': '210',\n",
      " 'StatusWheelStateFrontLeft': '0',\n",
      " 'StatusWheelPressureRearLeft': '2370',\n",
      " 'StatusWheelStateRearRight': '0',\n",
      " 'RapidDecelerationAccelerationSpeedatStart1': '0',\n",
      " 'RapidDecelerationAccelerationSpeedatStart2': '0',\n",
      " 'RapidDecelerationAccelerationSpeedatStart5': '0',\n",
      " 'RapidDecelerationAccelerationSpeedatStart3': '0',\n",
      " 'RapidDecelerationAccelerationSpeedatStart4': '0',\n",
      " 'AirTempDrivingStartupUnitICE': '0',\n",
      " 'StatusBrakeLowFluidLevel': '1',\n",
      " 'RapidDecelerationAccelerationMaximizeSpeedDeceleration5': '0',\n",
      " 'RapidDecelerationAccelerationMaximizeSpeedDeceleration4': '0',\n",
      " 'RapidDecelerationAccelerationMaximizeSpeedDeceleration3': '0',\n",
      " 'RapidDecelerationAccelerationMaximizeSpeedDeceleration2': '0',\n",
      " 'RapidDecelerationAccelerationMaximizeSpeedDeceleration1': '0',\n",
      " 'MapVersion': '17330_8_8',\n",
      " 'OilPressureWarning': '0',\n",
      " 'MaintenanceParticulateFilterFailureWarning': '0',\n",
      " 'EcoCruiseScore': '0',\n",
      " 'StatusWheelPressureRearRight': '2280',\n",
      " 'GforceAforceAcceleration': '0',\n",
      " 'StatusMIL_LampRequest': '0',\n",
      " 'StatusWheelStateFrontRight': '0',\n",
      " 'FuelGaugeIndicator': '0',\n",
      " 'StatusDistanceTotalizerComputed': '380.03',\n",
      " 'LocationLongitude': '-96.9538702777778',\n",
      " 'EcoEcoScore': '0',\n",
      " 'StatusDistanceTotalizer': '380.03',\n",
      " 'RapidDecelerationAccelerationTimeStamp3': '1/1/1970 12:00:00 AM',\n",
      " 'RapidDecelerationAccelerationTimeStamp4': '1/1/1970 12:00:00 AM',\n",
      " 'RapidDecelerationAccelerationTimeStamp5': '1/1/1970 12:00:00 AM',\n",
      " 'EcoSlowdownScore': '0',\n",
      " 'RapidDecelerationAccelerationTimeStamp1': '1/1/1970 12:00:00 AM',\n",
      " 'RapidDecelerationAccelerationTimeStamp2': '1/1/1970 12:00:00 AM',\n",
      " 'FuelConsumptionDistanceToEmptyTank': '651',\n",
      " 'StatusWheelStateRearLeft': '0',\n",
      " 'EcoStartScore': '0',\n",
      " 'StatusOilPressureSwitch': '0',\n",
      " 'StatusWheelPressureFrontRight': '2490',\n",
      " 'GforceDforceDeceleration': '0',\n",
      " 'LongitudeAtEnd': '-96.9538702777778',\n",
      " 'StatusWheelPressureFrontAxle': '230',\n",
      " 'LatitudeAtEnd': '32.9161619444444',\n",
      " 'FuelLowLevel': '0',\n",
      " 'TotalDistanceEndTrip': '380.03',\n",
      " 'LocationSource': '1',\n",
      " 'ESCBrakingFailureStatus': '0',\n",
      " 'StatusWheelPressureFrontLeft': '2400',\n",
      " 'EngineCoolantTemp': '84',\n",
      " 'AirTempDrivingStartupValueICE': '33',\n",
      " 'GEEBatteryVoltage': '12.96',\n",
      " 'ESCABSMalfunction': '0',\n",
      " 'ExcessiveIdlingElapsedTime1': '120',\n",
      " 'ExcessiveIdlingTimeStamp1': '7/14/2023 4:40:47 PM',\n",
      " 'ExcessiveIdlingElapsedTime2': '160',\n",
      " 'ExcessiveIdlingTimeStamp2': '7/14/2023 4:45:47 PM',\n",
      " 'ExcessiveIdlingElapsedTime3': '180',\n",
      " 'ExcessiveIdlingTimeStamp3': '7/14/2023 4:55:47 PM',\n",
      " 'ExcessiveIdlingElapsedTime4': '120',\n",
      " 'ExcessiveIdlingTimeStamp4': '7/14/2023 5:15:47 PM',\n",
      " 'ExcessiveIdlingElapsedTime5': '120',\n",
      " 'ExcessiveIdlingTimeStamp5': '7/14/2023 5:20:47 PM',\n",
      " 'ExcessiveIdlingElapsedTime6': '0',\n",
      " 'ExcessiveIdlingTimeStamp6': '1/1/1973 12:00:00 AM',\n",
      " 'IdlingTimeInTrip': '700'}\n"
     ]
    }
   ],
   "source": [
    "pp.pprint(ignitionOff,sort_dicts=0)"
   ]
  },
  {
   "cell_type": "code",
   "execution_count": 6,
   "id": "02b2ed9b",
   "metadata": {},
   "outputs": [],
   "source": [
    "idlingData = {}\n",
    "for keys,values in ignitionOff.items():\n",
    "    if ('ExcessiveIdlingTimeStamp' in keys) or ('ExcessiveIdlingElapsedTime' in keys):\n",
    "        idlingData.update({keys:values})"
   ]
  },
  {
   "cell_type": "code",
   "execution_count": 7,
   "id": "4b50588e",
   "metadata": {
    "collapsed": true
   },
   "outputs": [
    {
     "data": {
      "text/plain": [
       "{'ExcessiveIdlingElapsedTime1': '120',\n",
       " 'ExcessiveIdlingTimeStamp1': '7/14/2023 4:40:47 PM',\n",
       " 'ExcessiveIdlingElapsedTime2': '160',\n",
       " 'ExcessiveIdlingTimeStamp2': '7/14/2023 4:45:47 PM',\n",
       " 'ExcessiveIdlingElapsedTime3': '180',\n",
       " 'ExcessiveIdlingTimeStamp3': '7/14/2023 4:55:47 PM',\n",
       " 'ExcessiveIdlingElapsedTime4': '120',\n",
       " 'ExcessiveIdlingTimeStamp4': '7/14/2023 5:15:47 PM',\n",
       " 'ExcessiveIdlingElapsedTime5': '120',\n",
       " 'ExcessiveIdlingTimeStamp5': '7/14/2023 5:20:47 PM',\n",
       " 'ExcessiveIdlingElapsedTime6': '0',\n",
       " 'ExcessiveIdlingTimeStamp6': '1/1/1973 12:00:00 AM'}"
      ]
     },
     "execution_count": 7,
     "metadata": {},
     "output_type": "execute_result"
    }
   ],
   "source": [
    "idlingData"
   ]
  },
  {
   "cell_type": "code",
   "execution_count": 11,
   "id": "52b2d18e",
   "metadata": {},
   "outputs": [
    {
     "name": "stdout",
     "output_type": "stream",
     "text": [
      "ExcessiveIdlingElapsedTime6\t\t0\n",
      "ExcessiveIdlingTimeStamp6\t\t1/1/1973 12:00:00 AM\n"
     ]
    }
   ],
   "source": [
    "cleaned_ignitionOff = {}\n",
    "for keys,values in idlingData.items():\n",
    "    if ('ExcessiveIdlingElapsedTime' in keys) and (int(values)==0):\n",
    "        print(f\"{keys}\\t\\t{values}\")\n",
    "    elif ('ExcessiveIdlingTimeStamp' in keys) and ('1/1/1973 12:00:00 AM' in values) :\n",
    "        print(f\"{keys}\\t\\t{values}\")\n",
    "    else:\n",
    "        cleaned_ignitionOff.update({keys:values})"
   ]
  },
  {
   "cell_type": "code",
   "execution_count": 12,
   "id": "daa14690",
   "metadata": {},
   "outputs": [
    {
     "data": {
      "text/plain": [
       "{'ExcessiveIdlingElapsedTime1': '120',\n",
       " 'ExcessiveIdlingTimeStamp1': '7/14/2023 4:40:47 PM',\n",
       " 'ExcessiveIdlingElapsedTime2': '160',\n",
       " 'ExcessiveIdlingTimeStamp2': '7/14/2023 4:45:47 PM',\n",
       " 'ExcessiveIdlingElapsedTime3': '180',\n",
       " 'ExcessiveIdlingTimeStamp3': '7/14/2023 4:55:47 PM',\n",
       " 'ExcessiveIdlingElapsedTime4': '120',\n",
       " 'ExcessiveIdlingTimeStamp4': '7/14/2023 5:15:47 PM',\n",
       " 'ExcessiveIdlingElapsedTime5': '120',\n",
       " 'ExcessiveIdlingTimeStamp5': '7/14/2023 5:20:47 PM'}"
      ]
     },
     "execution_count": 12,
     "metadata": {},
     "output_type": "execute_result"
    }
   ],
   "source": [
    "cleaned_ignitionOff"
   ]
  },
  {
   "cell_type": "code",
   "execution_count": null,
   "id": "d7a141ac",
   "metadata": {},
   "outputs": [],
   "source": [
    "excessiveIdling = {}"
   ]
  }
 ],
 "metadata": {
  "kernelspec": {
   "display_name": "Python 3 (ipykernel)",
   "language": "python",
   "name": "python3"
  },
  "language_info": {
   "codemirror_mode": {
    "name": "ipython",
    "version": 3
   },
   "file_extension": ".py",
   "mimetype": "text/x-python",
   "name": "python",
   "nbconvert_exporter": "python",
   "pygments_lexer": "ipython3",
   "version": "3.10.5"
  }
 },
 "nbformat": 4,
 "nbformat_minor": 5
}
