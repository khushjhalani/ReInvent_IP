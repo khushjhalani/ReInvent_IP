{
 "cells": [
  {
   "cell_type": "code",
   "execution_count": 1,
   "id": "91328824",
   "metadata": {},
   "outputs": [],
   "source": [
    "import json"
   ]
  },
  {
   "cell_type": "code",
   "execution_count": 2,
   "id": "b2f971c4",
   "metadata": {},
   "outputs": [],
   "source": [
    "with open(\"JOURNEY_GAMMA_07072023.jsonl\",'r') as file:\n",
    "    data = json.load(file)"
   ]
  },
  {
   "cell_type": "code",
   "execution_count": null,
   "id": "d5f56997",
   "metadata": {},
   "outputs": [],
   "source": [
    "formattedData = json.dump(data,indent =3)"
   ]
  },
  {
   "cell_type": "code",
   "execution_count": 3,
   "id": "d946229b",
   "metadata": {},
   "outputs": [
    {
     "name": "stdout",
     "output_type": "stream",
     "text": [
      "{'TCU_gen': 'IVI-IVC', 'Platform': 'Gamma', 'VIN': '5N1BT3CB0PC795389', 'CanGen': 'C1A-HS', 'Region': 'NNA', 'Source': 'vNext', 'Version': 'v2.6.3', 'DataCategory': 'Probe', 'DeviceValue': {}, 'EventOccurTimeStamp': '1687459910000', 'EventArrivalTimeStamp': '1687459933414', 'TraceId': 'vNext_65e014b8-8ef4-4c58-90ea-a830e839f41e:1687460272062', 'CountryofSale': 'US', 'contexts': [{'ContextType': 'Trip', 'TimeStampStartContext': '2023-06-22T17:44:55Z', 'TimeStampEndContext': '2023-06-22T18:06:53Z'}], 'ignitionOn': {'timeStamp': '2023-06-22T17:44:55Z', 'LocationLatitude': '32.92538835', 'AirTempStartingTimeUnit': '1', 'StatusDistanceTotalizerComputed': '36.34', 'LocationLongitude': '-96.76992855', 'StatusDistanceTotalizer': '36.34', 'AirTempStartingTimeValue': '93', 'LocationSource': '0', 'LocationSourceAtStart': '0', 'LongitudeAtStart': '-96.76992855', 'TotalDistanceStartTrip': '36.34', 'LatitudeAtStart': '32.92538835'}, 'ignitionOff': {'timeStamp': '2023-06-22T18:06:53Z', 'LocationLatitude': '32.9161372222222', 'LocationSourceAtEnd': '1', 'RapidDecelerationAccelerationLatitude1': '32.925884', 'RapidDecelerationAccelerationLatitude2': '32.91217', 'RapidDecelerationAccelerationLatitude3': '32.915188', 'ECOAverageDistanceForFuelEconomy': '21.5', 'StatusWheelPressureRearAxle': '210', 'StatusWheelStateFrontLeft': '0', 'StatusWheelPressureRearLeft': '2400', 'StatusWheelStateRearRight': '0', 'RapidDecelerationAccelerationSpeedatStart1': '59.3', 'RapidDecelerationAccelerationSpeedatStart2': '43.8', 'RapidDecelerationAccelerationSpeedatStart3': '40.6', 'AirTempDrivingStartupUnitICE': '1', 'StatusBrakeLowFluidLevel': '1', 'RapidDecelerationAccelerationMaximizeSpeedDeceleration3': '-0.30591485', 'RapidDecelerationAccelerationMaximizeSpeedDeceleration2': '-0.40505394', 'RapidDecelerationAccelerationMaximizeSpeedDeceleration1': '-0.38239357', 'MapVersion': '17330_8_8', 'OilPressureWarning': '0', 'ExcessiveIdlingElapsedTime1': '0', 'MaintenanceParticulateFilterFailureWarning': '0', 'EcoCruiseScore': '0', 'StatusWheelPressureRearRight': '2310', 'GforceAforceAcceleration': '0', 'StatusMIL_LampRequest': '0', 'RapidDecelerationAccelerationLongitude1': '-96.80444', 'RapidDecelerationAccelerationLongitude2': '-96.87849', 'RapidDecelerationAccelerationLongitude3': '-96.9538', 'StatusWheelStateFrontRight': '0', 'FuelGaugeIndicator': '0', 'StatusDistanceTotalizerComputed': '54.24', 'LocationLongitude': '-96.9538930555556', 'EcoEcoScore': '0', 'StatusDistanceTotalizer': '54.24', 'RapidDecelerationAccelerationTimeStamp3': '6/22/2023 6:04:48 PM', 'EcoSlowdownScore': '0', 'RapidDecelerationAccelerationTimeStamp1': '6/22/2023 5:54:44 PM', 'RapidDecelerationAccelerationTimeStamp2': '6/22/2023 5:59:41 PM', 'ExcessiveIdlingTimeStamp1': '1/1/1970 12:00:00 AM', 'FuelConsumptionDistanceToEmptyTank': '153', 'StatusWheelStateRearLeft': '0', 'EcoStartScore': '0', 'StatusOilPressureSwitch': '0', 'StatusWheelPressureFrontRight': '2460', 'GforceDforceDeceleration': '0', 'LongitudeAtEnd': '-96.9538930555556', 'StatusWheelPressureFrontAxle': '230', 'LatitudeAtEnd': '32.9161372222222', 'FuelLowLevel': '0', 'TotalDistanceEndTrip': '54.24', 'LocationSource': '1', 'ESCBrakingFailureStatus': '0', 'StatusWheelPressureFrontLeft': '2430', 'EngineCoolantTemp': '83', 'AirTempDrivingStartupValueICE': '93', 'GEEBatteryVoltage': '14.22', 'ESCABSMalfunction': '0'}, 'tripData': {'timeStamp': '2023-06-22T18:06:53Z', 'StopTripTimestamp': '6/22/2023 6:06:53 PM', 'TripMaxWheelPressureRearLeft': '2400', 'B_RangeFrequencyInTrip': '0', 'StartTripTimestamp': '6/22/2023 5:44:55 PM', 'Frequency3000RPM_Tripdata': '11', 'Status_Warning_Lane': '0', 'FuelInjectionQuantityFuelConsumption': '1604320', 'Frequency4000_RPM_Tripdata': '0', 'DurationPositionLightsOn': '0', 'ECO_ModeMileageInTrip': '17.88', 'UseTimeOfAirConditionInTripGASFuelSystem': '1310', 'IdlingTimeInTrip': '263', 'TripMaxWheelPressureRearRight': '2310', 'HeadLightON_TimeInTrip': '42', 'DurationABS_Triggered': '0', 'MileageCoveredInTrip': '17.88', 'Frequency6000_RPM_Tripdata': '0', 'DurationFrontFogLightsOn': '0', 'TripMaxEngineCoolantTemp': '88', 'Target_Forward': '0', 'TripMaxWheelPressureFrontLeft': '2430', 'ACC_DrivingTimeInTrip': '1318', 'TripMaxWheelPressureFrontRight': '2490', 'DurationDRL_OnTrip': '1273', 'Frequency5000_RPM_Tripdata': '0'}, 'interimData': [{'timeStamp': '2023-06-22T17:54:55Z', 'LocationLatitude': '32.92596861111111', 'LocationHeading': '275', 'PositionLightsStatus': '0', 'SeatBeltSecondRowCenter': '1', 'LightningExternalDRL': '1', 'SeatBeltFirstRowDriver': '2', 'LightningLowBeam': '0', 'SeatBeltFirstRowPassenger': '1', 'MaintenanceParticulateFilterFailureWarning': '0', 'StatusWipingFront': '0', 'ECOPedalSettingStatus': '3', 'LightningFrontFogLight': '0', 'ProbeNaviTableType': '2', 'GforceAforceAcceleration': '0.15578997', 'AcceleratorPedalOpeningRatio': '35.125', 'ProbeNaviDrivingDistance': '0', 'SeatBeltSecondRowLeft': '1', 'StatusDistanceTotalizerComputed': '39.79', 'LocationLongitude': '-96.80555305555555', 'StatusDistanceTotalizer': '39.79', 'LocationSpeed': '35.6', 'VehicleLocationGNSS_Timestamp': '1687456495', 'ProbeNaviVehicleSpeed': '40.1', 'FuelConsumptionDistanceToEmptyTank': '169', 'ECOPedalForce': '0', 'RearFogLightsStatus': '0', 'ExternalTempDisplayValue': '98', 'ECODriveIndicator': '0', 'GforceDforceDeceleration': '0', 'ProbeNaviRoadType': '1', 'SpeedDisplayedValueinkmh': '47.9', 'LightningHighBeam': '0', 'SeatBeltSecondRowRight': '1', 'LocationSource': '1', 'ExternalTempDisplayUnit': '1', 'GEEBatteryVoltage': '14.22'}, {'timeStamp': '2023-06-22T17:55:25Z', 'LocationLatitude': '32.92606833333333', 'LocationHeading': '270', 'PositionLightsStatus': '0', 'SeatBeltSecondRowCenter': '1', 'LightningExternalDRL': '1', 'SeatBeltFirstRowDriver': '2', 'LightningLowBeam': '0', 'SeatBeltFirstRowPassenger': '1', 'MaintenanceParticulateFilterFailureWarning': '0', 'StatusWipingFront': '0', 'ECOPedalSettingStatus': '3', 'LightningFrontFogLight': '0', 'ProbeNaviTableType': '2', 'GforceAforceAcceleration': '0', 'AcceleratorPedalOpeningRatio': '0', 'ProbeNaviDrivingDistance': '0', 'SeatBeltSecondRowLeft': '1', 'StatusDistanceTotalizerComputed': '40.5', 'LocationLongitude': '-96.8128875', 'StatusDistanceTotalizer': '40.5', 'LocationSpeed': '99.1', 'VehicleLocationGNSS_Timestamp': '1687456525', 'ProbeNaviVehicleSpeed': '99.1', 'FuelConsumptionDistanceToEmptyTank': '168', 'ECOPedalForce': '0', 'RearFogLightsStatus': '0', 'ExternalTempDisplayValue': '100', 'ECODriveIndicator': '0', 'GforceDforceDeceleration': '0.053818356', 'ProbeNaviRoadType': '1', 'SpeedDisplayedValueinkmh': '95.6', 'LightningHighBeam': '0', 'SeatBeltSecondRowRight': '1', 'LocationSource': '1', 'ExternalTempDisplayUnit': '1', 'GEEBatteryVoltage': '14.22'}, {'timeStamp': '2023-06-22T17:55:55Z', 'LocationLatitude': '32.92618944444444', 'LocationHeading': '269', 'PositionLightsStatus': '0', 'SeatBeltSecondRowCenter': '1', 'LightningExternalDRL': '1', 'SeatBeltFirstRowDriver': '2', 'LightningLowBeam': '0', 'SeatBeltFirstRowPassenger': '1', 'MaintenanceParticulateFilterFailureWarning': '0', 'StatusWipingFront': '0', 'ECOPedalSettingStatus': '3', 'LightningFrontFogLight': '0', 'ProbeNaviTableType': '2', 'GforceAforceAcceleration': '0.048153266', 'AcceleratorPedalOpeningRatio': '0', 'ProbeNaviDrivingDistance': '0', 'SeatBeltSecondRowLeft': '1', 'StatusDistanceTotalizerComputed': '41.28', 'LocationLongitude': '-96.82116166666667', 'StatusDistanceTotalizer': '41.28', 'LocationSpeed': '90.3', 'VehicleLocationGNSS_Timestamp': '1687456555', 'ProbeNaviVehicleSpeed': '90.3', 'FuelConsumptionDistanceToEmptyTank': '168', 'ECOPedalForce': '0', 'RearFogLightsStatus': '0', 'ExternalTempDisplayValue': '101', 'ECODriveIndicator': '0', 'GforceDforceDeceleration': '0', 'ProbeNaviRoadType': '1', 'SpeedDisplayedValueinkmh': '94.6', 'LightningHighBeam': '0', 'SeatBeltSecondRowRight': '1', 'LocationSource': '1', 'ExternalTempDisplayUnit': '1', 'GEEBatteryVoltage': '14.22'}, {'timeStamp': '2023-06-22T17:56:25Z', 'LocationLatitude': '32.92603777777777', 'LocationHeading': '268', 'PositionLightsStatus': '0', 'SeatBeltSecondRowCenter': '1', 'LightningExternalDRL': '1', 'SeatBeltFirstRowDriver': '2', 'LightningLowBeam': '0', 'SeatBeltFirstRowPassenger': '1', 'MaintenanceParticulateFilterFailureWarning': '0', 'StatusWipingFront': '0', 'ECOPedalSettingStatus': '3', 'LightningFrontFogLight': '0', 'ProbeNaviTableType': '2', 'GforceAforceAcceleration': '0', 'AcceleratorPedalOpeningRatio': '29.75', 'ProbeNaviDrivingDistance': '0', 'SeatBeltSecondRowLeft': '1', 'StatusDistanceTotalizerComputed': '42.1', 'LocationLongitude': '-96.83020833333332', 'StatusDistanceTotalizer': '42.1', 'LocationSpeed': '107.5', 'VehicleLocationGNSS_Timestamp': '1687456586', 'ProbeNaviVehicleSpeed': '107.5', 'FuelConsumptionDistanceToEmptyTank': '167', 'ECOPedalForce': '0', 'RearFogLightsStatus': '0', 'ExternalTempDisplayValue': '100', 'ECODriveIndicator': '0', 'GforceDforceDeceleration': '0', 'ProbeNaviRoadType': '1', 'SpeedDisplayedValueinkmh': '107.6', 'LightningHighBeam': '0', 'SeatBeltSecondRowRight': '1', 'LocationSource': '1', 'ExternalTempDisplayUnit': '1', 'GEEBatteryVoltage': '14.22'}, {'timeStamp': '2023-06-22T17:56:55Z', 'LocationLatitude': '32.92507722222222', 'LocationHeading': '250', 'PositionLightsStatus': '0', 'SeatBeltSecondRowCenter': '1', 'LightningExternalDRL': '1', 'SeatBeltFirstRowDriver': '2', 'LightningLowBeam': '0', 'SeatBeltFirstRowPassenger': '1', 'MaintenanceParticulateFilterFailureWarning': '0', 'StatusWipingFront': '0', 'ECOPedalSettingStatus': '3', 'LightningFrontFogLight': '0', 'ProbeNaviTableType': '2', 'GforceAforceAcceleration': '0.04532072', 'AcceleratorPedalOpeningRatio': '0', 'ProbeNaviDrivingDistance': '0', 'SeatBeltSecondRowLeft': '1', 'StatusDistanceTotalizerComputed': '42.99', 'LocationLongitude': '-96.83927916666664', 'StatusDistanceTotalizer': '42.99', 'LocationSpeed': '111', 'VehicleLocationGNSS_Timestamp': '1687456615', 'ProbeNaviVehicleSpeed': '111', 'FuelConsumptionDistanceToEmptyTank': '166', 'ECOPedalForce': '0', 'RearFogLightsStatus': '0', 'ExternalTempDisplayValue': '99', 'ECODriveIndicator': '0', 'GforceDforceDeceleration': '0', 'ProbeNaviRoadType': '1', 'SpeedDisplayedValueinkmh': '116', 'LightningHighBeam': '0', 'SeatBeltSecondRowRight': '1', 'LocationSource': '1', 'ExternalTempDisplayUnit': '1', 'GEEBatteryVoltage': '14.22'}, {'timeStamp': '2023-06-22T17:57:25Z', 'LocationLatitude': '32.92153888888889', 'LocationHeading': '244', 'PositionLightsStatus': '0', 'SeatBeltSecondRowCenter': '1', 'LightningExternalDRL': '1', 'SeatBeltFirstRowDriver': '2', 'LightningLowBeam': '0', 'SeatBeltFirstRowPassenger': '1', 'MaintenanceParticulateFilterFailureWarning': '0', 'StatusWipingFront': '0', 'ECOPedalSettingStatus': '3', 'LightningFrontFogLight': '0', 'ProbeNaviTableType': '2', 'GforceAforceAcceleration': '0', 'AcceleratorPedalOpeningRatio': '0', 'ProbeNaviDrivingDistance': '0', 'SeatBeltSecondRowLeft': '1', 'StatusDistanceTotalizerComputed': '43.88', 'LocationLongitude': '-96.84799388888888', 'StatusDistanceTotalizer': '43.88', 'LocationSpeed': '99.8', 'VehicleLocationGNSS_Timestamp': '1687456645', 'ProbeNaviVehicleSpeed': '99.8', 'FuelConsumptionDistanceToEmptyTank': '166', 'ECOPedalForce': '0', 'RearFogLightsStatus': '0', 'ExternalTempDisplayValue': '98', 'ECODriveIndicator': '0', 'GforceDforceDeceleration': '0.11896689', 'ProbeNaviRoadType': '1', 'SpeedDisplayedValueinkmh': '92', 'LightningHighBeam': '0', 'SeatBeltSecondRowRight': '1', 'LocationSource': '1', 'ExternalTempDisplayUnit': '1', 'GEEBatteryVoltage': '14.52'}, {'timeStamp': '2023-06-22T17:57:55Z', 'LocationLatitude': '32.918658611111109', 'LocationHeading': '242', 'PositionLightsStatus': '0', 'SeatBeltSecondRowCenter': '1', 'LightningExternalDRL': '1', 'SeatBeltFirstRowDriver': '2', 'LightningLowBeam': '0', 'SeatBeltFirstRowPassenger': '1', 'MaintenanceParticulateFilterFailureWarning': '0', 'StatusWipingFront': '0', 'ECOPedalSettingStatus': '3', 'LightningFrontFogLight': '0', 'ProbeNaviTableType': '2', 'GforceAforceAcceleration': '0', 'AcceleratorPedalOpeningRatio': '0', 'ProbeNaviDrivingDistance': '0', 'SeatBeltSecondRowLeft': '1', 'StatusDistanceTotalizerComputed': '44.59', 'LocationLongitude': '-96.85488138888889', 'StatusDistanceTotalizer': '44.59', 'LocationSpeed': '86.5', 'VehicleLocationGNSS_Timestamp': '1687456675', 'ProbeNaviVehicleSpeed': '86.5', 'FuelConsumptionDistanceToEmptyTank': '165', 'ECOPedalForce': '0', 'RearFogLightsStatus': '0', 'ExternalTempDisplayValue': '97', 'ECODriveIndicator': '0', 'GforceDforceDeceleration': '0.12463198', 'ProbeNaviRoadType': '1', 'SpeedDisplayedValueinkmh': '81.3', 'LightningHighBeam': '0', 'SeatBeltSecondRowRight': '1', 'LocationSource': '1', 'ExternalTempDisplayUnit': '1', 'GEEBatteryVoltage': '14.46'}, {'timeStamp': '2023-06-22T17:58:25Z', 'LocationLatitude': '32.91679277777777', 'LocationHeading': '249', 'PositionLightsStatus': '0', 'SeatBeltSecondRowCenter': '1', 'LightningExternalDRL': '1', 'SeatBeltFirstRowDriver': '2', 'LightningLowBeam': '0', 'SeatBeltFirstRowPassenger': '1', 'MaintenanceParticulateFilterFailureWarning': '0', 'StatusWipingFront': '0', 'ECOPedalSettingStatus': '3', 'LightningFrontFogLight': '0', 'ProbeNaviTableType': '2', 'GforceAforceAcceleration': '0.13596216', 'AcceleratorPedalOpeningRatio': '31.125', 'ProbeNaviDrivingDistance': '0', 'SeatBeltSecondRowLeft': '1', 'StatusDistanceTotalizerComputed': '45.06', 'LocationLongitude': '-96.85947777777777', 'StatusDistanceTotalizer': '45.06', 'LocationSpeed': '54.5', 'VehicleLocationGNSS_Timestamp': '1687456706', 'ProbeNaviVehicleSpeed': '54.5', 'FuelConsumptionDistanceToEmptyTank': '165', 'ECOPedalForce': '0', 'RearFogLightsStatus': '0', 'ExternalTempDisplayValue': '97', 'ECODriveIndicator': '0', 'GforceDforceDeceleration': '0', 'ProbeNaviRoadType': '1', 'SpeedDisplayedValueinkmh': '70.9', 'LightningHighBeam': '0', 'SeatBeltSecondRowRight': '1', 'LocationSource': '1', 'ExternalTempDisplayUnit': '1', 'GEEBatteryVoltage': '14.22'}, {'timeStamp': '2023-06-22T17:58:55Z', 'LocationLatitude': '32.9152075', 'LocationHeading': '252', 'PositionLightsStatus': '0', 'SeatBeltSecondRowCenter': '1', 'LightningExternalDRL': '1', 'SeatBeltFirstRowDriver': '2', 'LightningLowBeam': '0', 'SeatBeltFirstRowPassenger': '1', 'MaintenanceParticulateFilterFailureWarning': '0', 'StatusWipingFront': '0', 'ECOPedalSettingStatus': '3', 'LightningFrontFogLight': '0', 'ProbeNaviTableType': '2', 'GforceAforceAcceleration': '0.05098581', 'AcceleratorPedalOpeningRatio': '26.75', 'ProbeNaviDrivingDistance': '0', 'SeatBeltSecondRowLeft': '1', 'StatusDistanceTotalizerComputed': '45.67', 'LocationLongitude': '-96.86563388888888', 'StatusDistanceTotalizer': '45.67', 'LocationSpeed': '77.2', 'VehicleLocationGNSS_Timestamp': '1687456735', 'ProbeNaviVehicleSpeed': '77.2', 'FuelConsumptionDistanceToEmptyTank': '164', 'ECOPedalForce': '0', 'RearFogLightsStatus': '0', 'ExternalTempDisplayValue': '96', 'ECODriveIndicator': '0', 'GforceDforceDeceleration': '0', 'ProbeNaviRoadType': '1', 'SpeedDisplayedValueinkmh': '82', 'LightningHighBeam': '0', 'SeatBeltSecondRowRight': '1', 'LocationSource': '1', 'ExternalTempDisplayUnit': '1', 'GEEBatteryVoltage': '14.22'}, {'timeStamp': '2023-06-22T17:59:25Z', 'LocationLatitude': '32.91302777777778', 'LocationHeading': '256', 'PositionLightsStatus': '0', 'SeatBeltSecondRowCenter': '1', 'LightningExternalDRL': '1', 'SeatBeltFirstRowDriver': '2', 'LightningLowBeam': '0', 'SeatBeltFirstRowPassenger': '1', 'MaintenanceParticulateFilterFailureWarning': '0', 'StatusWipingFront': '0', 'ECOPedalSettingStatus': '3', 'LightningFrontFogLight': '0', 'ProbeNaviTableType': '2', 'GforceAforceAcceleration': '0', 'AcceleratorPedalOpeningRatio': '0', 'ProbeNaviDrivingDistance': '0', 'SeatBeltSecondRowLeft': '1', 'StatusDistanceTotalizerComputed': '46.52', 'LocationLongitude': '-96.87416194444445', 'StatusDistanceTotalizer': '46.52', 'LocationSpeed': '104.4', 'VehicleLocationGNSS_Timestamp': '1687456765', 'ProbeNaviVehicleSpeed': '104.4', 'FuelConsumptionDistanceToEmptyTank': '163', 'ECOPedalForce': '0', 'RearFogLightsStatus': '0', 'ExternalTempDisplayValue': '96', 'ECODriveIndicator': '0', 'GforceDforceDeceleration': '0.014162725', 'ProbeNaviRoadType': '1', 'SpeedDisplayedValueinkmh': '104.8', 'LightningHighBeam': '0', 'SeatBeltSecondRowRight': '1', 'LocationSource': '1', 'ExternalTempDisplayUnit': '1', 'GEEBatteryVoltage': '14.52'}, {'timeStamp': '2023-06-22T17:59:55Z', 'LocationLatitude': '32.9118975', 'LocationHeading': '254', 'PositionLightsStatus': '0', 'SeatBeltSecondRowCenter': '1', 'LightningExternalDRL': '1', 'SeatBeltFirstRowDriver': '2', 'LightningLowBeam': '0', 'SeatBeltFirstRowPassenger': '1', 'MaintenanceParticulateFilterFailureWarning': '0', 'StatusWipingFront': '0', 'ECOPedalSettingStatus': '3', 'LightningFrontFogLight': '0', 'ProbeNaviTableType': '2', 'GforceAforceAcceleration': '0.093473986', 'AcceleratorPedalOpeningRatio': '16.125', 'ProbeNaviDrivingDistance': '0', 'SeatBeltSecondRowLeft': '1', 'StatusDistanceTotalizerComputed': '46.99', 'LocationLongitude': '-96.87954833333332', 'StatusDistanceTotalizer': '46.99', 'LocationSpeed': '20', 'VehicleLocationGNSS_Timestamp': '1687456795', 'ProbeNaviVehicleSpeed': '20', 'FuelConsumptionDistanceToEmptyTank': '162', 'ECOPedalForce': '0', 'RearFogLightsStatus': '0', 'ExternalTempDisplayValue': '95', 'ECODriveIndicator': '0', 'GforceDforceDeceleration': '0', 'ProbeNaviRoadType': '1', 'SpeedDisplayedValueinkmh': '29.8', 'LightningHighBeam': '0', 'SeatBeltSecondRowRight': '1', 'LocationSource': '1', 'ExternalTempDisplayUnit': '1', 'GEEBatteryVoltage': '14.22'}, {'timeStamp': '2023-06-22T18:00:25Z', 'LocationLatitude': '32.91099805555555', 'LocationHeading': '253', 'PositionLightsStatus': '0', 'SeatBeltSecondRowCenter': '1', 'LightningExternalDRL': '1', 'SeatBeltFirstRowDriver': '2', 'LightningLowBeam': '0', 'SeatBeltFirstRowPassenger': '1', 'MaintenanceParticulateFilterFailureWarning': '0', 'StatusWipingFront': '0', 'ECOPedalSettingStatus': '3', 'LightningFrontFogLight': '0', 'ProbeNaviTableType': '2', 'GforceAforceAcceleration': '0', 'AcceleratorPedalOpeningRatio': '0', 'ProbeNaviDrivingDistance': '0', 'SeatBeltSecondRowLeft': '1', 'StatusDistanceTotalizerComputed': '47.33', 'LocationLongitude': '-96.88289944444445', 'StatusDistanceTotalizer': '47.33', 'LocationSpeed': '51.6', 'VehicleLocationGNSS_Timestamp': '1687456826', 'ProbeNaviVehicleSpeed': '51.6', 'FuelConsumptionDistanceToEmptyTank': '162', 'ECOPedalForce': '0', 'RearFogLightsStatus': '0', 'ExternalTempDisplayValue': '95', 'ECODriveIndicator': '0', 'GforceDforceDeceleration': '0.01699527', 'ProbeNaviRoadType': '1', 'SpeedDisplayedValueinkmh': '51.5', 'LightningHighBeam': '0', 'SeatBeltSecondRowRight': '1', 'LocationSource': '1', 'ExternalTempDisplayUnit': '1', 'GEEBatteryVoltage': '14.52'}, {'timeStamp': '2023-06-22T18:00:55Z', 'LocationLatitude': '32.91010583333333', 'LocationHeading': '254', 'PositionLightsStatus': '0', 'SeatBeltSecondRowCenter': '1', 'LightningExternalDRL': '1', 'SeatBeltFirstRowDriver': '2', 'LightningLowBeam': '0', 'SeatBeltFirstRowPassenger': '1', 'MaintenanceParticulateFilterFailureWarning': '0', 'StatusWipingFront': '0', 'ECOPedalSettingStatus': '3', 'LightningFrontFogLight': '0', 'ProbeNaviTableType': '2', 'GforceAforceAcceleration': '0.07647871', 'AcceleratorPedalOpeningRatio': '22.625', 'ProbeNaviDrivingDistance': '0', 'SeatBeltSecondRowLeft': '1', 'StatusDistanceTotalizerComputed': '47.71', 'LocationLongitude': '-96.88665944444445', 'StatusDistanceTotalizer': '47.71', 'LocationSpeed': '57.1', 'VehicleLocationGNSS_Timestamp': '1687456855', 'ProbeNaviVehicleSpeed': '57.1', 'FuelConsumptionDistanceToEmptyTank': '161', 'ECOPedalForce': '0', 'RearFogLightsStatus': '0', 'ExternalTempDisplayValue': '95', 'ECODriveIndicator': '0', 'GforceDforceDeceleration': '0', 'ProbeNaviRoadType': '1', 'SpeedDisplayedValueinkmh': '65.7', 'LightningHighBeam': '0', 'SeatBeltSecondRowRight': '1', 'LocationSource': '1', 'ExternalTempDisplayUnit': '1', 'GEEBatteryVoltage': '14.22'}, {'timeStamp': '2023-06-22T18:01:25Z', 'LocationLatitude': '32.909081666666669', 'LocationHeading': '256', 'PositionLightsStatus': '0', 'SeatBeltSecondRowCenter': '1', 'LightningExternalDRL': '1', 'SeatBeltFirstRowDriver': '2', 'LightningLowBeam': '0', 'SeatBeltFirstRowPassenger': '1', 'MaintenanceParticulateFilterFailureWarning': '0', 'StatusWipingFront': '0', 'ECOPedalSettingStatus': '3', 'LightningFrontFogLight': '0', 'ProbeNaviTableType': '2', 'GforceAforceAcceleration': '0.05098581', 'AcceleratorPedalOpeningRatio': '30.625', 'ProbeNaviDrivingDistance': '0', 'SeatBeltSecondRowLeft': '1', 'StatusDistanceTotalizerComputed': '48.18', 'LocationLongitude': '-96.89161416666669', 'StatusDistanceTotalizer': '48.18', 'LocationSpeed': '56.3', 'VehicleLocationGNSS_Timestamp': '1687456885', 'ProbeNaviVehicleSpeed': '56.3', 'FuelConsumptionDistanceToEmptyTank': '161', 'ECOPedalForce': '0', 'RearFogLightsStatus': '0', 'ExternalTempDisplayValue': '95', 'ECODriveIndicator': '0', 'GforceDforceDeceleration': '0', 'ProbeNaviRoadType': '1', 'SpeedDisplayedValueinkmh': '61.1', 'LightningHighBeam': '0', 'SeatBeltSecondRowRight': '1', 'LocationSource': '1', 'ExternalTempDisplayUnit': '1', 'GEEBatteryVoltage': '14.22'}, {'timeStamp': '2023-06-22T18:01:55Z', 'LocationLatitude': '32.90808916666666', 'LocationHeading': '264', 'PositionLightsStatus': '0', 'SeatBeltSecondRowCenter': '1', 'LightningExternalDRL': '1', 'SeatBeltFirstRowDriver': '2', 'LightningLowBeam': '0', 'SeatBeltFirstRowPassenger': '1', 'MaintenanceParticulateFilterFailureWarning': '0', 'StatusWipingFront': '0', 'ECOPedalSettingStatus': '3', 'LightningFrontFogLight': '0', 'ProbeNaviTableType': '2', 'GforceAforceAcceleration': '0.036823086', 'AcceleratorPedalOpeningRatio': '25.5', 'ProbeNaviDrivingDistance': '0', 'SeatBeltSecondRowLeft': '1', 'StatusDistanceTotalizerComputed': '48.9', 'LocationLongitude': '-96.89899166666669', 'StatusDistanceTotalizer': '48.9', 'LocationSpeed': '91.9', 'VehicleLocationGNSS_Timestamp': '1687456915', 'ProbeNaviVehicleSpeed': '91.9', 'FuelConsumptionDistanceToEmptyTank': '160', 'ECOPedalForce': '0', 'RearFogLightsStatus': '0', 'ExternalTempDisplayValue': '96', 'ECODriveIndicator': '0', 'GforceDforceDeceleration': '0', 'ProbeNaviRoadType': '2', 'SpeedDisplayedValueinkmh': '94.9', 'LightningHighBeam': '0', 'SeatBeltSecondRowRight': '1', 'LocationSource': '1', 'ExternalTempDisplayUnit': '1', 'GEEBatteryVoltage': '14.22'}, {'timeStamp': '2023-06-22T18:02:25Z', 'LocationLatitude': '32.90787805555556', 'LocationHeading': '268', 'PositionLightsStatus': '0', 'SeatBeltSecondRowCenter': '1', 'LightningExternalDRL': '1', 'SeatBeltFirstRowDriver': '2', 'LightningLowBeam': '0', 'SeatBeltFirstRowPassenger': '1', 'MaintenanceParticulateFilterFailureWarning': '0', 'StatusWipingFront': '0', 'ECOPedalSettingStatus': '3', 'LightningFrontFogLight': '0', 'ProbeNaviTableType': '2', 'GforceAforceAcceleration': '0.025492905', 'AcceleratorPedalOpeningRatio': '3.625', 'ProbeNaviDrivingDistance': '0', 'SeatBeltSecondRowLeft': '1', 'StatusDistanceTotalizerComputed': '49.8', 'LocationLongitude': '-96.9083975', 'StatusDistanceTotalizer': '49.8', 'LocationSpeed': '120.7', 'VehicleLocationGNSS_Timestamp': '1687456945', 'ProbeNaviVehicleSpeed': '120.7', 'FuelConsumptionDistanceToEmptyTank': '158', 'ECOPedalForce': '0', 'RearFogLightsStatus': '0', 'ExternalTempDisplayValue': '96', 'ECODriveIndicator': '0', 'GforceDforceDeceleration': '0', 'ProbeNaviRoadType': '2', 'SpeedDisplayedValueinkmh': '124.5', 'LightningHighBeam': '0', 'SeatBeltSecondRowRight': '1', 'LocationSource': '1', 'ExternalTempDisplayUnit': '1', 'GEEBatteryVoltage': '14.22'}, {'timeStamp': '2023-06-22T18:02:55Z', 'LocationLatitude': '32.9077325', 'LocationHeading': '269', 'PositionLightsStatus': '0', 'SeatBeltSecondRowCenter': '1', 'LightningExternalDRL': '1', 'SeatBeltFirstRowDriver': '2', 'LightningLowBeam': '0', 'SeatBeltFirstRowPassenger': '1', 'MaintenanceParticulateFilterFailureWarning': '0', 'StatusWipingFront': '0', 'ECOPedalSettingStatus': '3', 'LightningFrontFogLight': '0', 'ProbeNaviTableType': '2', 'GforceAforceAcceleration': '0', 'AcceleratorPedalOpeningRatio': '0', 'ProbeNaviDrivingDistance': '0', 'SeatBeltSecondRowLeft': '1', 'StatusDistanceTotalizerComputed': '50.81', 'LocationLongitude': '-96.91926916666665', 'StatusDistanceTotalizer': '50.81', 'LocationSpeed': '124.8', 'VehicleLocationGNSS_Timestamp': '1687456975', 'ProbeNaviVehicleSpeed': '125.6', 'FuelConsumptionDistanceToEmptyTank': '157', 'ECOPedalForce': '0', 'RearFogLightsStatus': '0', 'ExternalTempDisplayValue': '95', 'ECODriveIndicator': '0', 'GforceDforceDeceleration': '0.06798108', 'ProbeNaviRoadType': '2', 'SpeedDisplayedValueinkmh': '122.2', 'LightningHighBeam': '0', 'SeatBeltSecondRowRight': '1', 'LocationSource': '1', 'ExternalTempDisplayUnit': '1', 'GEEBatteryVoltage': '14.52'}, {'timeStamp': '2023-06-22T18:03:25Z', 'LocationLatitude': '32.90914583333333', 'LocationHeading': '285', 'PositionLightsStatus': '0', 'SeatBeltSecondRowCenter': '1', 'LightningExternalDRL': '1', 'SeatBeltFirstRowDriver': '2', 'LightningLowBeam': '0', 'SeatBeltFirstRowPassenger': '1', 'MaintenanceParticulateFilterFailureWarning': '0', 'StatusWipingFront': '0', 'ECOPedalSettingStatus': '3', 'LightningFrontFogLight': '0', 'ProbeNaviTableType': '2', 'GforceAforceAcceleration': '0', 'AcceleratorPedalOpeningRatio': '8.375', 'ProbeNaviDrivingDistance': '0', 'SeatBeltSecondRowLeft': '1', 'StatusDistanceTotalizerComputed': '51.81', 'LocationLongitude': '-96.92975', 'StatusDistanceTotalizer': '51.81', 'LocationSpeed': '114.7', 'VehicleLocationGNSS_Timestamp': '1687457005', 'ProbeNaviVehicleSpeed': '114.7', 'FuelConsumptionDistanceToEmptyTank': '156', 'ECOPedalForce': '0', 'RearFogLightsStatus': '0', 'ExternalTempDisplayValue': '95', 'ECODriveIndicator': '0', 'GforceDforceDeceleration': '0.014162725', 'ProbeNaviRoadType': '2', 'SpeedDisplayedValueinkmh': '114.5', 'LightningHighBeam': '0', 'SeatBeltSecondRowRight': '1', 'LocationSource': '1', 'ExternalTempDisplayUnit': '1', 'GEEBatteryVoltage': '14.22'}, {'timeStamp': '2023-06-22T18:03:55Z', 'LocationLatitude': '32.911294166666667', 'LocationHeading': '285', 'PositionLightsStatus': '0', 'SeatBeltSecondRowCenter': '1', 'LightningExternalDRL': '1', 'SeatBeltFirstRowDriver': '2', 'LightningLowBeam': '0', 'SeatBeltFirstRowPassenger': '1', 'MaintenanceParticulateFilterFailureWarning': '0', 'StatusWipingFront': '0', 'ECOPedalSettingStatus': '3', 'LightningFrontFogLight': '0', 'ProbeNaviTableType': '2', 'GforceAforceAcceleration': '0.008497635', 'AcceleratorPedalOpeningRatio': '21.625', 'ProbeNaviDrivingDistance': '0', 'SeatBeltSecondRowLeft': '1', 'StatusDistanceTotalizerComputed': '52.72', 'LocationLongitude': '-96.93930194444445', 'StatusDistanceTotalizer': '52.72', 'LocationSpeed': '110.1', 'VehicleLocationGNSS_Timestamp': '1687457035', 'ProbeNaviVehicleSpeed': '110.1', 'FuelConsumptionDistanceToEmptyTank': '155', 'ECOPedalForce': '0', 'RearFogLightsStatus': '0', 'ExternalTempDisplayValue': '94', 'ECODriveIndicator': '0', 'GforceDforceDeceleration': '0', 'ProbeNaviRoadType': '2', 'SpeedDisplayedValueinkmh': '111.8', 'LightningHighBeam': '0', 'SeatBeltSecondRowRight': '1', 'LocationSource': '1', 'ExternalTempDisplayUnit': '1', 'GEEBatteryVoltage': '14.22'}, {'timeStamp': '2023-06-22T18:04:25Z', 'LocationLatitude': '32.91386361111111', 'LocationHeading': '288', 'PositionLightsStatus': '0', 'SeatBeltSecondRowCenter': '1', 'LightningExternalDRL': '1', 'SeatBeltFirstRowDriver': '2', 'LightningLowBeam': '0', 'SeatBeltFirstRowPassenger': '1', 'MaintenanceParticulateFilterFailureWarning': '0', 'StatusWipingFront': '0', 'ECOPedalSettingStatus': '3', 'LightningFrontFogLight': '0', 'ProbeNaviTableType': '2', 'GforceAforceAcceleration': '0', 'AcceleratorPedalOpeningRatio': '16', 'ProbeNaviDrivingDistance': '0', 'SeatBeltSecondRowLeft': '1', 'StatusDistanceTotalizerComputed': '53.59', 'LocationLongitude': '-96.94821472222225', 'StatusDistanceTotalizer': '53.59', 'LocationSpeed': '94.8', 'VehicleLocationGNSS_Timestamp': '1687457066', 'ProbeNaviVehicleSpeed': '94.8', 'FuelConsumptionDistanceToEmptyTank': '154', 'ECOPedalForce': '0', 'RearFogLightsStatus': '0', 'ExternalTempDisplayValue': '94', 'ECODriveIndicator': '0', 'GforceDforceDeceleration': '0.008497635', 'ProbeNaviRoadType': '2', 'SpeedDisplayedValueinkmh': '95.2', 'LightningHighBeam': '0', 'SeatBeltSecondRowRight': '1', 'LocationSource': '1', 'ExternalTempDisplayUnit': '1', 'GEEBatteryVoltage': '14.22'}, {'timeStamp': '2023-06-22T18:04:55Z', 'LocationLatitude': '32.915464166666669', 'LocationHeading': '14', 'PositionLightsStatus': '0', 'SeatBeltSecondRowCenter': '1', 'LightningExternalDRL': '1', 'SeatBeltFirstRowDriver': '2', 'LightningLowBeam': '0', 'SeatBeltFirstRowPassenger': '1', 'MaintenanceParticulateFilterFailureWarning': '0', 'StatusWipingFront': '0', 'ECOPedalSettingStatus': '3', 'LightningFrontFogLight': '0', 'ProbeNaviTableType': '2', 'GforceAforceAcceleration': '0.06798108', 'AcceleratorPedalOpeningRatio': '0', 'ProbeNaviDrivingDistance': '0', 'SeatBeltSecondRowLeft': '1', 'StatusDistanceTotalizerComputed': '54.16', 'LocationLongitude': '-96.95417027777777', 'StatusDistanceTotalizer': '54.16', 'LocationSpeed': '24.3', 'VehicleLocationGNSS_Timestamp': '1687457095', 'ProbeNaviVehicleSpeed': '24.3', 'FuelConsumptionDistanceToEmptyTank': '154', 'ECOPedalForce': '0', 'RearFogLightsStatus': '0', 'ExternalTempDisplayValue': '93', 'ECODriveIndicator': '0', 'GforceDforceDeceleration': '0', 'ProbeNaviRoadType': '5', 'SpeedDisplayedValueinkmh': '29.8', 'LightningHighBeam': '0', 'SeatBeltSecondRowRight': '1', 'LocationSource': '1', 'ExternalTempDisplayUnit': '1', 'GEEBatteryVoltage': '14.22'}, {'timeStamp': '2023-06-22T18:05:25Z', 'LocationLatitude': '32.916174166666667', 'LocationHeading': '315', 'PositionLightsStatus': '0', 'SeatBeltSecondRowCenter': '1', 'LightningExternalDRL': '1', 'SeatBeltFirstRowDriver': '2', 'LightningLowBeam': '0', 'SeatBeltFirstRowPassenger': '1', 'MaintenanceParticulateFilterFailureWarning': '0', 'StatusWipingFront': '0', 'ECOPedalSettingStatus': '3', 'LightningFrontFogLight': '0', 'ProbeNaviTableType': '2', 'GforceAforceAcceleration': '0', 'AcceleratorPedalOpeningRatio': '0', 'ProbeNaviDrivingDistance': '0', 'SeatBeltSecondRowLeft': '1', 'StatusDistanceTotalizerComputed': '54.23', 'LocationLongitude': '-96.95393444444444', 'StatusDistanceTotalizer': '54.23', 'LocationSpeed': '1', 'VehicleLocationGNSS_Timestamp': '1687457125', 'ProbeNaviVehicleSpeed': '1', 'FuelConsumptionDistanceToEmptyTank': '154', 'ECOPedalForce': '0', 'RearFogLightsStatus': '0', 'ExternalTempDisplayValue': '93', 'ECODriveIndicator': '0', 'GforceDforceDeceleration': '0.04532072', 'ProbeNaviRoadType': '5', 'SpeedDisplayedValueinkmh': '0', 'LightningHighBeam': '0', 'SeatBeltSecondRowRight': '1', 'LocationSource': '1', 'ExternalTempDisplayUnit': '1', 'GEEBatteryVoltage': '14.22'}, {'timeStamp': '2023-06-22T18:05:55Z', 'LocationLatitude': '32.91621166666666', 'LocationHeading': '297', 'PositionLightsStatus': '0', 'SeatBeltSecondRowCenter': '1', 'LightningExternalDRL': '1', 'SeatBeltFirstRowDriver': '2', 'LightningLowBeam': '0', 'SeatBeltFirstRowPassenger': '1', 'MaintenanceParticulateFilterFailureWarning': '0', 'StatusWipingFront': '0', 'ECOPedalSettingStatus': '3', 'LightningFrontFogLight': '0', 'ProbeNaviTableType': '2', 'GforceAforceAcceleration': '0.031157995', 'AcceleratorPedalOpeningRatio': '0', 'ProbeNaviDrivingDistance': '0', 'SeatBeltSecondRowLeft': '1', 'StatusDistanceTotalizerComputed': '54.24', 'LocationLongitude': '-96.95396861111111', 'StatusDistanceTotalizer': '54.24', 'LocationSpeed': '0.9', 'VehicleLocationGNSS_Timestamp': '1687457155', 'ProbeNaviVehicleSpeed': '0.9', 'FuelConsumptionDistanceToEmptyTank': '153', 'ECOPedalForce': '0', 'RearFogLightsStatus': '0', 'ExternalTempDisplayValue': '93', 'ECODriveIndicator': '0', 'GforceDforceDeceleration': '0', 'ProbeNaviRoadType': '5', 'SpeedDisplayedValueinkmh': '1.1', 'LightningHighBeam': '0', 'SeatBeltSecondRowRight': '1', 'LocationSource': '1', 'ExternalTempDisplayUnit': '1', 'GEEBatteryVoltage': '14.22'}, {'timeStamp': '2023-06-22T18:06:25Z', 'LocationLatitude': '32.91613722222222', 'LocationHeading': '285', 'PositionLightsStatus': '1', 'SeatBeltSecondRowCenter': '1', 'LightningExternalDRL': '0', 'SeatBeltFirstRowDriver': '2', 'LightningLowBeam': '1', 'SeatBeltFirstRowPassenger': '1', 'MaintenanceParticulateFilterFailureWarning': '0', 'StatusWipingFront': '0', 'ECOPedalSettingStatus': '3', 'LightningFrontFogLight': '0', 'ProbeNaviTableType': '2', 'GforceAforceAcceleration': '0', 'AcceleratorPedalOpeningRatio': '0', 'ProbeNaviDrivingDistance': '0', 'SeatBeltSecondRowLeft': '1', 'StatusDistanceTotalizerComputed': '54.24', 'LocationLongitude': '-96.95389305555556', 'StatusDistanceTotalizer': '54.24', 'LocationSpeed': '0', 'VehicleLocationGNSS_Timestamp': '1687457185', 'ProbeNaviVehicleSpeed': '0', 'FuelConsumptionDistanceToEmptyTank': '153', 'ECOPedalForce': '0', 'RearFogLightsStatus': '0', 'ExternalTempDisplayValue': '93', 'ECODriveIndicator': '0', 'GforceDforceDeceleration': '0', 'ProbeNaviRoadType': '5', 'SpeedDisplayedValueinkmh': '0', 'LightningHighBeam': '0', 'SeatBeltSecondRowRight': '1', 'LocationSource': '1', 'ExternalTempDisplayUnit': '1', 'GEEBatteryVoltage': '14.28'}, {'timeStamp': '2023-06-22T18:10:00Z', 'DurationTripMonth': '4721', 'MileageYear': '48.66', 'VCMEVEnergyConsumptionDay': '0', 'VCMEVEnergyConsumptionYear': '0', 'VCMEVEnergyConsumptionLife': '0', 'NumberTripLife': '13', 'MileageDay': '37.13', 'FuelConsumptionDay': '3421.2', 'MileageMonth': '47.97', 'VCMEVEnergyConsumptionMonth': '0', 'DurationTripYear': '5115', 'FuelConsumptionMonth': '4932.72', 'MileageLife': '48.66', 'NumberTripMonth': '8', 'NumberTripDay': '4', 'DurationTripDay': '2864', 'DurationTripLife': '5115', 'NumberTripYear': '13', 'FuelConsumptionYear': '5241.2', 'LifeFuelConsumption': '5241.2'}]}\n"
     ]
    }
   ],
   "source": [
    "print(data)"
   ]
  },
  {
   "cell_type": "code",
   "execution_count": 5,
   "id": "1acf08d2",
   "metadata": {},
   "outputs": [
    {
     "data": {
      "text/plain": [
       "dict"
      ]
     },
     "execution_count": 5,
     "metadata": {},
     "output_type": "execute_result"
    }
   ],
   "source": [
    "type(data['ignitionOff'])"
   ]
  },
  {
   "cell_type": "code",
   "execution_count": 6,
   "id": "2554364d",
   "metadata": {},
   "outputs": [],
   "source": [
    "with open('vehicle_health_fields.txt','r') as file:\n",
    "        global fields\n",
    "        fields = file.read().splitlines()"
   ]
  },
  {
   "cell_type": "code",
   "execution_count": 11,
   "id": "d06ce63b",
   "metadata": {
    "collapsed": true
   },
   "outputs": [
    {
     "data": {
      "text/plain": [
       "['VehicleReceivedHEVAutonomyDisplay',\n",
       " 'IdlingDriveMotorElectricityConsumptionPlus',\n",
       " 'HV_BatteryHighestCellVoltageProbeID',\n",
       " 'HV_BatteryLowestCellVoltageProbeID',\n",
       " 'AcceleratorPedalOpeningRatio',\n",
       " 'CruisingRange_AC_OFF',\n",
       " 'ECO_ModeMileageInTrip',\n",
       " 'GEEBatteryVoltage',\n",
       " 'GforceAforceAcceleration',\n",
       " 'GforceDforceDeceleration',\n",
       " 'StatusDistanceTotalizerComputed',\n",
       " 'DriveMotorElectricityConsumptionPlus',\n",
       " 'DriveMotorElectricityConsumptionMinus',\n",
       " 'ACElectricityConsumption',\n",
       " 'AuxiliaryEquipmentElectricityConsumption',\n",
       " 'LB_IR_SensorWaveVoltage',\n",
       " 'HVBStateOfHealth',\n",
       " 'AirTempDrivingStartupUnitEV',\n",
       " 'AirTempDrivingStartupUnitICE',\n",
       " 'AirTempDrivingStartupValueEV',\n",
       " 'AirTempDrivingStartupValueICE',\n",
       " 'AirTempStartingTimeUnit',\n",
       " 'AirTempStartingTimeValue',\n",
       " 'CrashDetectionOutOfOrder',\n",
       " 'EngineCoolantTemp',\n",
       " 'ESCABSMalfunction',\n",
       " 'ESCBrakingFailureStatus',\n",
       " 'FuelGaugeIndicator',\n",
       " 'FuelInjectionQuantityFuelConsumption',\n",
       " 'FuelLowLevel',\n",
       " 'MaintenanceParticulateFilterFailureWarning',\n",
       " 'OilPressureWarning',\n",
       " 'StatusBrakeLowFluidLevel',\n",
       " 'StatusOilPressureSwitch']"
      ]
     },
     "execution_count": 11,
     "metadata": {},
     "output_type": "execute_result"
    }
   ],
   "source": [
    "fields"
   ]
  },
  {
   "cell_type": "code",
   "execution_count": 7,
   "id": "8eda3fca",
   "metadata": {},
   "outputs": [],
   "source": [
    "def filt(dic):\n",
    "    global fields\n",
    "    return (dic[0] in fields)"
   ]
  },
  {
   "cell_type": "code",
   "execution_count": 12,
   "id": "d062f6ce",
   "metadata": {},
   "outputs": [
    {
     "data": {
      "text/plain": [
       "{'timeStamp': '2023-06-22T17:44:55Z',\n",
       " 'LocationLatitude': '32.92538835',\n",
       " 'AirTempStartingTimeUnit': '1',\n",
       " 'StatusDistanceTotalizerComputed': '36.34',\n",
       " 'LocationLongitude': '-96.76992855',\n",
       " 'StatusDistanceTotalizer': '36.34',\n",
       " 'AirTempStartingTimeValue': '93',\n",
       " 'LocationSource': '0',\n",
       " 'LocationSourceAtStart': '0',\n",
       " 'LongitudeAtStart': '-96.76992855',\n",
       " 'TotalDistanceStartTrip': '36.34',\n",
       " 'LatitudeAtStart': '32.92538835'}"
      ]
     },
     "execution_count": 12,
     "metadata": {},
     "output_type": "execute_result"
    }
   ],
   "source": [
    "data['ignitionOff']"
   ]
  },
  {
   "cell_type": "code",
   "execution_count": 15,
   "id": "ed69f09c",
   "metadata": {},
   "outputs": [],
   "source": [
    "a = dict(filter(filt,data['ignitionOff'].items()))"
   ]
  },
  {
   "cell_type": "code",
   "execution_count": 17,
   "id": "59476f3d",
   "metadata": {},
   "outputs": [
    {
     "data": {
      "text/plain": [
       "list"
      ]
     },
     "execution_count": 17,
     "metadata": {},
     "output_type": "execute_result"
    }
   ],
   "source": [
    "type(data['interimData'])"
   ]
  }
 ],
 "metadata": {
  "kernelspec": {
   "display_name": "Python 3 (ipykernel)",
   "language": "python",
   "name": "python3"
  },
  "language_info": {
   "codemirror_mode": {
    "name": "ipython",
    "version": 3
   },
   "file_extension": ".py",
   "mimetype": "text/x-python",
   "name": "python",
   "nbconvert_exporter": "python",
   "pygments_lexer": "ipython3",
   "version": "3.10.5"
  }
 },
 "nbformat": 4,
 "nbformat_minor": 5
}
